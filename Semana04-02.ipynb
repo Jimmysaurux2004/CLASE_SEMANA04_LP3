{
 "cells": [
  {
   "cell_type": "markdown",
   "id": "7bbc0b1b-2da8-4f5f-9b23-d862ba01d060",
   "metadata": {},
   "source": [
    "# SEMANA 04\n",
    "Estudiante: Jimmy Alexander Huerta Vasquez"
   ]
  },
  {
   "cell_type": "markdown",
   "id": "c4f118a0",
   "metadata": {},
   "source": [
    "Agenda\n",
    "1. Números\n",
    "2. Variables\n",
    "3. Manejo de cadenas\n",
    "4. Ingreso de valores por el teclado\n",
    "5. Operadores"
   ]
  },
  {
   "cell_type": "markdown",
   "id": "b5d345ea",
   "metadata": {},
   "source": [
    "2. Variables"
   ]
  },
  {
   "cell_type": "code",
   "execution_count": 7,
   "id": "cfab4d62",
   "metadata": {},
   "outputs": [],
   "source": [
    "#Se deben iniciar siempre con una letra o un guión abajo. (Nunca con un número u otro símbolo)"
   ]
  },
  {
   "cell_type": "code",
   "execution_count": 2,
   "id": "f986dfc9",
   "metadata": {},
   "outputs": [
    {
     "data": {
      "text/plain": [
       "21"
      ]
     },
     "execution_count": 2,
     "metadata": {},
     "output_type": "execute_result"
    }
   ],
   "source": [
    "edad = 21\n",
    "edad"
   ]
  },
  {
   "cell_type": "code",
   "execution_count": 3,
   "id": "a7f408b7",
   "metadata": {},
   "outputs": [
    {
     "data": {
      "text/plain": [
       "'Jeampier'"
      ]
     },
     "execution_count": 3,
     "metadata": {},
     "output_type": "execute_result"
    }
   ],
   "source": [
    "nombre = \"Jeampier\"\n",
    "nombre"
   ]
  },
  {
   "cell_type": "code",
   "execution_count": 4,
   "id": "f3520d28",
   "metadata": {},
   "outputs": [
    {
     "data": {
      "text/plain": [
       "'Barrios Quispe'"
      ]
     },
     "execution_count": 4,
     "metadata": {},
     "output_type": "execute_result"
    }
   ],
   "source": [
    "apellido = \"Barrios Quispe\"\n",
    "apellido"
   ]
  },
  {
   "cell_type": "code",
   "execution_count": 6,
   "id": "2878b28d",
   "metadata": {},
   "outputs": [
    {
     "data": {
      "text/plain": [
       "'Jeampier Barrios Quispe'"
      ]
     },
     "execution_count": 6,
     "metadata": {},
     "output_type": "execute_result"
    }
   ],
   "source": [
    "nombre_completo = nombre + \" \" + apellido\n",
    "nombre_completo"
   ]
  },
  {
   "cell_type": "code",
   "execution_count": 7,
   "id": "97e3ab8c",
   "metadata": {},
   "outputs": [
    {
     "data": {
      "text/plain": [
       "int"
      ]
     },
     "execution_count": 7,
     "metadata": {},
     "output_type": "execute_result"
    }
   ],
   "source": [
    "#Para saber el tipo de variable utilizamos la función type()\n",
    "#Por ejemplo:\n",
    "numero = 50\n",
    "type(numero)"
   ]
  },
  {
   "cell_type": "code",
   "execution_count": 8,
   "id": "9f59c58e",
   "metadata": {},
   "outputs": [
    {
     "data": {
      "text/plain": [
       "float"
      ]
     },
     "execution_count": 8,
     "metadata": {},
     "output_type": "execute_result"
    }
   ],
   "source": [
    "talla = 1.66\n",
    "type(talla)"
   ]
  },
  {
   "cell_type": "code",
   "execution_count": 9,
   "id": "0b29f45c",
   "metadata": {},
   "outputs": [
    {
     "data": {
      "text/plain": [
       "'100'"
      ]
     },
     "execution_count": 9,
     "metadata": {},
     "output_type": "execute_result"
    }
   ],
   "source": [
    "#Para convertir un numero en cadena utilizamos str()\n",
    "numero = 100\n",
    "cadena = str(numero)\n",
    "cadena"
   ]
  },
  {
   "cell_type": "code",
   "execution_count": 10,
   "id": "a6c81d4f",
   "metadata": {},
   "outputs": [
    {
     "data": {
      "text/plain": [
       "50.0"
      ]
     },
     "execution_count": 10,
     "metadata": {},
     "output_type": "execute_result"
    }
   ],
   "source": [
    "#Para convertir una cadena a decimal utilizamos float()\n",
    "cadena2 = \"50\"\n",
    "numero2 = float(cadena2)\n",
    "numero2"
   ]
  },
  {
   "cell_type": "code",
   "execution_count": 11,
   "id": "3fe313ea",
   "metadata": {},
   "outputs": [
    {
     "data": {
      "text/plain": [
       "float"
      ]
     },
     "execution_count": 11,
     "metadata": {},
     "output_type": "execute_result"
    }
   ],
   "source": [
    "type(numero2)"
   ]
  },
  {
   "cell_type": "code",
   "execution_count": null,
   "id": "5978f659-f847-49eb-8803-f079c953dc59",
   "metadata": {},
   "outputs": [],
   "source": []
  }
 ],
 "metadata": {
  "kernelspec": {
   "display_name": "Python 3 (ipykernel)",
   "language": "python",
   "name": "python3"
  },
  "language_info": {
   "codemirror_mode": {
    "name": "ipython",
    "version": 3
   },
   "file_extension": ".py",
   "mimetype": "text/x-python",
   "name": "python",
   "nbconvert_exporter": "python",
   "pygments_lexer": "ipython3",
   "version": "3.11.7"
  }
 },
 "nbformat": 4,
 "nbformat_minor": 5
}
