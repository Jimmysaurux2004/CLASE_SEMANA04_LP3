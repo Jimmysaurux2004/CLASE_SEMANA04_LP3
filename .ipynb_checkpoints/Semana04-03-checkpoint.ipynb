{
 "cells": [
  {
   "cell_type": "markdown",
   "id": "3ea88f3b",
   "metadata": {},
   "source": [
    "# SEMANA 04\n",
    "Estudiante: Jimmy Alexander Huerta Vasquez"
   ]
  },
  {
   "cell_type": "markdown",
   "id": "bfd45db9",
   "metadata": {},
   "source": [
    "Agenda\n",
    "1. Números\n",
    "2. Variables\n",
    "3. Manejo de cadenas\n",
    "4. Ingreso de datos por el teclado\n",
    "5. Operadores"
   ]
  },
  {
   "cell_type": "markdown",
   "id": "d0cd0eac",
   "metadata": {},
   "source": [
    "3. Manejo de cadenas"
   ]
  },
  {
   "cell_type": "code",
   "execution_count": 32,
   "id": "fccb73c7",
   "metadata": {},
   "outputs": [],
   "source": [
    "cadena = \"Universidad Tecnológica de Lima Sur\""
   ]
  },
  {
   "cell_type": "code",
   "execution_count": 33,
   "id": "82df9df0",
   "metadata": {},
   "outputs": [
    {
     "data": {
      "text/plain": [
       "'Universidad Tecnológica de Lima Sur'"
      ]
     },
     "execution_count": 33,
     "metadata": {},
     "output_type": "execute_result"
    }
   ],
   "source": [
    "cadena"
   ]
  },
  {
   "cell_type": "code",
   "execution_count": 34,
   "id": "ba8fd834",
   "metadata": {},
   "outputs": [],
   "source": [
    "#Universidad Nacional Tecnológica de Lima Sur\n",
    "#012345...\n",
    "#...-3-2-1"
   ]
  },
  {
   "cell_type": "code",
   "execution_count": 35,
   "id": "e2240a9f",
   "metadata": {},
   "outputs": [
    {
     "data": {
      "text/plain": [
       "'r'"
      ]
     },
     "execution_count": 35,
     "metadata": {},
     "output_type": "execute_result"
    }
   ],
   "source": [
    "cadena[5]"
   ]
  },
  {
   "cell_type": "code",
   "execution_count": 36,
   "id": "c22d1ab5-ea54-4a4d-a518-a51073e94e79",
   "metadata": {},
   "outputs": [
    {
     "data": {
      "text/plain": [
       "'d'"
      ]
     },
     "execution_count": 36,
     "metadata": {},
     "output_type": "execute_result"
    }
   ],
   "source": [
    "cadena[10]"
   ]
  },
  {
   "cell_type": "code",
   "execution_count": 37,
   "id": "3fb8551b",
   "metadata": {},
   "outputs": [
    {
     "data": {
      "text/plain": [
       "' '"
      ]
     },
     "execution_count": 37,
     "metadata": {},
     "output_type": "execute_result"
    }
   ],
   "source": [
    "#También considera los espacios en blanco\n",
    "cadena[11]"
   ]
  },
  {
   "cell_type": "code",
   "execution_count": 38,
   "id": "6295d110",
   "metadata": {},
   "outputs": [
    {
     "data": {
      "text/plain": [
       "'a'"
      ]
     },
     "execution_count": 38,
     "metadata": {},
     "output_type": "execute_result"
    }
   ],
   "source": [
    "cadena[-5]"
   ]
  },
  {
   "cell_type": "code",
   "execution_count": 39,
   "id": "8798b37d",
   "metadata": {},
   "outputs": [
    {
     "data": {
      "text/plain": [
       "'c'"
      ]
     },
     "execution_count": 39,
     "metadata": {},
     "output_type": "execute_result"
    }
   ],
   "source": [
    "cadena[21]"
   ]
  },
  {
   "cell_type": "code",
   "execution_count": 40,
   "id": "27124289",
   "metadata": {},
   "outputs": [
    {
     "data": {
      "text/plain": [
       "'T'"
      ]
     },
     "execution_count": 40,
     "metadata": {},
     "output_type": "execute_result"
    }
   ],
   "source": [
    "cadena[-23]"
   ]
  },
  {
   "cell_type": "code",
   "execution_count": 41,
   "id": "b78ecfb9",
   "metadata": {},
   "outputs": [
    {
     "data": {
      "text/plain": [
       "'versi'"
      ]
     },
     "execution_count": 41,
     "metadata": {},
     "output_type": "execute_result"
    }
   ],
   "source": [
    "#Para mostrar una subcadena [desde, hasta una antes]\n",
    "#En java era substring()\n",
    "cadena[3:8]"
   ]
  },
  {
   "cell_type": "code",
   "execution_count": 42,
   "id": "ed109bcc",
   "metadata": {},
   "outputs": [
    {
     "data": {
      "text/plain": [
       "35"
      ]
     },
     "execution_count": 42,
     "metadata": {},
     "output_type": "execute_result"
    }
   ],
   "source": [
    "#Para saber el tamaño de una cadena utilizamos len()\n",
    "#incluye espacios en blanco\n",
    "len(cadena)"
   ]
  },
  {
   "cell_type": "code",
   "execution_count": 43,
   "id": "00809872",
   "metadata": {},
   "outputs": [
    {
     "data": {
      "text/plain": [
       "'UNIVERSIDAD TECNOLÓGICA DE LIMA SUR'"
      ]
     },
     "execution_count": 43,
     "metadata": {},
     "output_type": "execute_result"
    }
   ],
   "source": [
    "#Para mostrar una cadena en mayuscula utilizamos upper()\n",
    "cadena.upper()"
   ]
  },
  {
   "cell_type": "code",
   "execution_count": 44,
   "id": "49aabcfd",
   "metadata": {},
   "outputs": [
    {
     "data": {
      "text/plain": [
       "'universidad tecnológica de lima sur'"
      ]
     },
     "execution_count": 44,
     "metadata": {},
     "output_type": "execute_result"
    }
   ],
   "source": [
    "#Para mostrar una cadena en mayuscula utilizamos lower()\n",
    "cadena.lower()"
   ]
  },
  {
   "cell_type": "code",
   "execution_count": 45,
   "id": "2ae0939c",
   "metadata": {},
   "outputs": [
    {
     "data": {
      "text/plain": [
       "'Universidad Tecnológica de Lima Sur'"
      ]
     },
     "execution_count": 45,
     "metadata": {},
     "output_type": "execute_result"
    }
   ],
   "source": [
    "cadena"
   ]
  },
  {
   "cell_type": "code",
   "execution_count": 46,
   "id": "40da2f96",
   "metadata": {},
   "outputs": [
    {
     "data": {
      "text/plain": [
       "['Universidad', 'Tecnológica', 'de', 'Lima', 'Sur']"
      ]
     },
     "execution_count": 46,
     "metadata": {},
     "output_type": "execute_result"
    }
   ],
   "source": [
    "#Generar una lista a partir de una cadena. split()\n",
    "cadena.split()"
   ]
  },
  {
   "cell_type": "code",
   "execution_count": 47,
   "id": "66f23c8d",
   "metadata": {},
   "outputs": [
    {
     "data": {
      "text/plain": [
       "['Universid', 'd Tecnológic', ' de Lim', ' Sur']"
      ]
     },
     "execution_count": 47,
     "metadata": {},
     "output_type": "execute_result"
    }
   ],
   "source": [
    "#Generar una lista utilizando un criterio de separación a partir de una cadena. split()\n",
    "#En este caso vamos a generar una lista de toda la cadena\n",
    "#Utilizando como criterio de separación la letra \"a\"\n",
    "cadena.split(\"a\")"
   ]
  },
  {
   "cell_type": "markdown",
   "id": "ca577114",
   "metadata": {},
   "source": [
    "3 formas de concatenar"
   ]
  },
  {
   "cell_type": "code",
   "execution_count": 48,
   "id": "05439b65",
   "metadata": {},
   "outputs": [
    {
     "name": "stdout",
     "output_type": "stream",
     "text": [
      "Buenas tardes, Jimmy Huerta\n"
     ]
    }
   ],
   "source": [
    "#Forma clásica, concatenar con \"+\"\n",
    "nombre = \"Jimmy Huerta\"\n",
    "print(\"Buenas tardes, \" + nombre)"
   ]
  },
  {
   "cell_type": "code",
   "execution_count": 49,
   "id": "50dea567",
   "metadata": {},
   "outputs": [
    {
     "name": "stdout",
     "output_type": "stream",
     "text": [
      "Hola Jeampier Barrios, ya sé que tienes 21 años\n"
     ]
    }
   ],
   "source": [
    "#Utilizando el .format()\n",
    "nombre = \"Jeampier Barrios\"\n",
    "edad = 21\n",
    "print(\"Hola {}, ya sé que tienes {} años\".format(nombre, edad))"
   ]
  },
  {
   "cell_type": "code",
   "execution_count": 50,
   "id": "4a89a9c0",
   "metadata": {},
   "outputs": [
    {
     "name": "stdout",
     "output_type": "stream",
     "text": [
      "10/3 es = 3.3333333333333335\n",
      "10/3 es = 3.33\n"
     ]
    }
   ],
   "source": [
    "#Dar formato a números con muchos decimales\n",
    "resultado = 10/3\n",
    "print(\"10/3 es = {}\".format(resultado))\n",
    "print(\"10/3 es = {r:1.2f}\".format(r=resultado))"
   ]
  },
  {
   "cell_type": "code",
   "execution_count": 51,
   "id": "0acaf232",
   "metadata": {},
   "outputs": [
    {
     "name": "stdout",
     "output_type": "stream",
     "text": [
      "Buenos días, Dafne Huertas, ya sé que tienes 19 años\n"
     ]
    }
   ],
   "source": [
    "#Dar formato con f\n",
    "#La funcion f, está disponible desde la versión 3.6\n",
    "nombre = \"Dafne Huertas\"\n",
    "edad = 19\n",
    "print(f\"Buenos días, {nombre}, ya sé que tienes {edad} años\")"
   ]
  },
  {
   "cell_type": "code",
   "execution_count": 52,
   "id": "59a8a95e",
   "metadata": {},
   "outputs": [
    {
     "name": "stdout",
     "output_type": "stream",
     "text": [
      "10/3 es = 3.3333333333333335 \n",
      "10/3 es = 3.33 \n"
     ]
    }
   ],
   "source": [
    "#Dar formato a números con muchos decimales con f\n",
    "resultado = 10/3\n",
    "print(f\"10/3 es = {resultado} \")\n",
    "print(f\"10/3 es = {resultado:1.2f} \")"
   ]
  }
 ],
 "metadata": {
  "kernelspec": {
   "display_name": "Python 3 (ipykernel)",
   "language": "python",
   "name": "python3"
  },
  "language_info": {
   "codemirror_mode": {
    "name": "ipython",
    "version": 3
   },
   "file_extension": ".py",
   "mimetype": "text/x-python",
   "name": "python",
   "nbconvert_exporter": "python",
   "pygments_lexer": "ipython3",
   "version": "3.11.7"
  }
 },
 "nbformat": 4,
 "nbformat_minor": 5
}
