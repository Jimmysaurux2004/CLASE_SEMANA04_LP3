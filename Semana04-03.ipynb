{
 "cells": [
  {
   "cell_type": "markdown",
   "id": "3ea88f3b",
   "metadata": {},
   "source": [
    "# SEMANA 04\n",
    "Estudiante: Jimmy Alexander Huerta Vasquez"
   ]
  },
  {
   "cell_type": "markdown",
   "id": "bfd45db9",
   "metadata": {},
   "source": [
    "Agenda\n",
    "1. Números\n",
    "2. Variables\n",
    "3. Manejo de cadenas\n",
    "4. Ingreso de datos por el teclado\n",
    "5. Operadores"
   ]
  },
  {
   "cell_type": "markdown",
   "id": "d0cd0eac",
   "metadata": {},
   "source": [
    "3. Manejo de cadenas"
   ]
  },
  {
   "cell_type": "code",
   "execution_count": 2,
   "id": "fccb73c7",
   "metadata": {},
   "outputs": [],
   "source": [
    "cadena = \"Universidad Nacional Tecnológica de Lima Sur\""
   ]
  },
  {
   "cell_type": "code",
   "execution_count": 3,
   "id": "82df9df0",
   "metadata": {},
   "outputs": [
    {
     "data": {
      "text/plain": [
       "'Universidad Nacional Tecnológica de Lima Sur'"
      ]
     },
     "execution_count": 3,
     "metadata": {},
     "output_type": "execute_result"
    }
   ],
   "source": [
    "cadena"
   ]
  },
  {
   "cell_type": "code",
   "execution_count": 34,
   "id": "ba8fd834",
   "metadata": {},
   "outputs": [],
   "source": [
    "#Universidad Nacional Tecnológica de Lima Sur\n",
    "#012345...\n",
    "#...-3-2-1"
   ]
  },
  {
   "cell_type": "code",
   "execution_count": 4,
   "id": "e2240a9f",
   "metadata": {},
   "outputs": [
    {
     "data": {
      "text/plain": [
       "'r'"
      ]
     },
     "execution_count": 4,
     "metadata": {},
     "output_type": "execute_result"
    }
   ],
   "source": [
    "cadena[5]"
   ]
  },
  {
   "cell_type": "code",
   "execution_count": 5,
   "id": "c22d1ab5-ea54-4a4d-a518-a51073e94e79",
   "metadata": {},
   "outputs": [
    {
     "data": {
      "text/plain": [
       "'d'"
      ]
     },
     "execution_count": 5,
     "metadata": {},
     "output_type": "execute_result"
    }
   ],
   "source": [
    "cadena[10]"
   ]
  },
  {
   "cell_type": "code",
   "execution_count": 6,
   "id": "3fb8551b",
   "metadata": {},
   "outputs": [
    {
     "data": {
      "text/plain": [
       "' '"
      ]
     },
     "execution_count": 6,
     "metadata": {},
     "output_type": "execute_result"
    }
   ],
   "source": [
    "#También considera los espacios en blanco\n",
    "cadena[11]"
   ]
  },
  {
   "cell_type": "code",
   "execution_count": 7,
   "id": "6295d110",
   "metadata": {},
   "outputs": [
    {
     "data": {
      "text/plain": [
       "'a'"
      ]
     },
     "execution_count": 7,
     "metadata": {},
     "output_type": "execute_result"
    }
   ],
   "source": [
    "cadena[-5]"
   ]
  },
  {
   "cell_type": "code",
   "execution_count": 8,
   "id": "8798b37d",
   "metadata": {},
   "outputs": [
    {
     "data": {
      "text/plain": [
       "'T'"
      ]
     },
     "execution_count": 8,
     "metadata": {},
     "output_type": "execute_result"
    }
   ],
   "source": [
    "cadena[21]"
   ]
  },
  {
   "cell_type": "code",
   "execution_count": 9,
   "id": "27124289",
   "metadata": {},
   "outputs": [
    {
     "data": {
      "text/plain": [
       "'T'"
      ]
     },
     "execution_count": 9,
     "metadata": {},
     "output_type": "execute_result"
    }
   ],
   "source": [
    "cadena[-23]"
   ]
  },
  {
   "cell_type": "code",
   "execution_count": 12,
   "id": "b78ecfb9",
   "metadata": {},
   "outputs": [
    {
     "data": {
      "text/plain": [
       "'sida'"
      ]
     },
     "execution_count": 12,
     "metadata": {},
     "output_type": "execute_result"
    }
   ],
   "source": [
    "#Para mostrar una subcadena [desde, hasta una antes]\n",
    "#En java era substring()\n",
    "cadena[6:10]"
   ]
  },
  {
   "cell_type": "code",
   "execution_count": 14,
   "id": "ed109bcc",
   "metadata": {},
   "outputs": [
    {
     "data": {
      "text/plain": [
       "44"
      ]
     },
     "execution_count": 14,
     "metadata": {},
     "output_type": "execute_result"
    }
   ],
   "source": [
    "#Para saber el tamaño de una cadena utilizamos len()\n",
    "#incluye espacios en blanco\n",
    "len(cadena)"
   ]
  },
  {
   "cell_type": "code",
   "execution_count": 15,
   "id": "00809872",
   "metadata": {},
   "outputs": [
    {
     "data": {
      "text/plain": [
       "'UNIVERSIDAD NACIONAL TECNOLÓGICA DE LIMA SUR'"
      ]
     },
     "execution_count": 15,
     "metadata": {},
     "output_type": "execute_result"
    }
   ],
   "source": [
    "#Para mostrar una cadena en mayúscula utilizamos upper()\n",
    "cadena.upper()"
   ]
  },
  {
   "cell_type": "code",
   "execution_count": 16,
   "id": "49aabcfd",
   "metadata": {},
   "outputs": [
    {
     "data": {
      "text/plain": [
       "'universidad nacional tecnológica de lima sur'"
      ]
     },
     "execution_count": 16,
     "metadata": {},
     "output_type": "execute_result"
    }
   ],
   "source": [
    "#Para mostrar una cadena en minúscula utilizamos lower()\n",
    "cadena.lower()"
   ]
  },
  {
   "cell_type": "code",
   "execution_count": 17,
   "id": "2ae0939c",
   "metadata": {},
   "outputs": [
    {
     "data": {
      "text/plain": [
       "'Universidad Nacional Tecnológica de Lima Sur'"
      ]
     },
     "execution_count": 17,
     "metadata": {},
     "output_type": "execute_result"
    }
   ],
   "source": [
    "cadena"
   ]
  },
  {
   "cell_type": "code",
   "execution_count": 20,
   "id": "40da2f96",
   "metadata": {},
   "outputs": [
    {
     "data": {
      "text/plain": [
       "['Universidad', 'Nacional', 'Tecnológica', 'de', 'Lima', 'Sur']"
      ]
     },
     "execution_count": 20,
     "metadata": {},
     "output_type": "execute_result"
    }
   ],
   "source": [
    "#Generar una lista a partir de una cadena. split()\n",
    "cadena.split() #por defecto es como si fuera (\" \")"
   ]
  },
  {
   "cell_type": "code",
   "execution_count": 21,
   "id": "66f23c8d",
   "metadata": {},
   "outputs": [
    {
     "data": {
      "text/plain": [
       "['Universid', 'd N', 'cion', 'l Tecnológic', ' de Lim', ' Sur']"
      ]
     },
     "execution_count": 21,
     "metadata": {},
     "output_type": "execute_result"
    }
   ],
   "source": [
    "#Generar una lista utilizando un criterio de separación a partir de una cadena. split()\n",
    "#En este caso vamos a generar una lista de toda la cadena\n",
    "#Utilizando como criterio de separación la letra \"a\"\n",
    "cadena.split(\"a\")"
   ]
  },
  {
   "cell_type": "markdown",
   "id": "ca577114",
   "metadata": {},
   "source": [
    "3 formas de concatenar"
   ]
  },
  {
   "cell_type": "code",
   "execution_count": 23,
   "id": "05439b65",
   "metadata": {},
   "outputs": [
    {
     "name": "stdout",
     "output_type": "stream",
     "text": [
      "Buenas tardes, Jimmy Huerta\n"
     ]
    }
   ],
   "source": [
    "#FORMA 01\n",
    "#Forma clásica, concatenar con \"+\"\n",
    "nombre = \"Jimmy Huerta\"\n",
    "print(\"Buenas tardes, \" + nombre)"
   ]
  },
  {
   "cell_type": "code",
   "execution_count": 25,
   "id": "50dea567",
   "metadata": {},
   "outputs": [
    {
     "name": "stdout",
     "output_type": "stream",
     "text": [
      "Hola Jimmy Huerta, ya sé que tienes 19 años\n"
     ]
    }
   ],
   "source": [
    "#FORMA 02\n",
    "#Utilizando el .format()\n",
    "nombre = \"Jimmy Huerta\"\n",
    "edad = 19\n",
    "print(\"Hola {}, ya sé que tienes {} años\".format(nombre, edad))"
   ]
  },
  {
   "cell_type": "code",
   "execution_count": 29,
   "id": "4a89a9c0",
   "metadata": {},
   "outputs": [
    {
     "name": "stdout",
     "output_type": "stream",
     "text": [
      "10/3 es = 3.3333333333333335\n",
      "10/3 es = 3.33\n"
     ]
    }
   ],
   "source": [
    "#-Dar formato, con .format(), a números con muchos decimales\n",
    "resultado = 10/3\n",
    "print(\"10/3 es = {}\".format(resultado))\n",
    "print(\"10/3 es = {r:1.2f}\".format(r=resultado))"
   ]
  },
  {
   "cell_type": "code",
   "execution_count": 27,
   "id": "0acaf232",
   "metadata": {},
   "outputs": [
    {
     "name": "stdout",
     "output_type": "stream",
     "text": [
      "Buenos días, Jimmy Huerta, ya sé que tienes 19 años\n"
     ]
    }
   ],
   "source": [
    "#FORMA 03\n",
    "#Dar formato con f\n",
    "#La funcion f, está disponible desde la versión 3.6\n",
    "nombre = \"Jimmy Huerta\"\n",
    "edad = 19\n",
    "print(f\"Buenos días, {nombre}, ya sé que tienes {edad} años\")"
   ]
  },
  {
   "cell_type": "code",
   "execution_count": 30,
   "id": "59a8a95e",
   "metadata": {},
   "outputs": [
    {
     "name": "stdout",
     "output_type": "stream",
     "text": [
      "10/3 es = 3.3333333333333335 \n",
      "10/3 es = 3.33 \n"
     ]
    }
   ],
   "source": [
    "#-Dar formato, con f, a números con muchos decimales\n",
    "resultado = 10/3\n",
    "print(f\"10/3 es = {resultado} \")\n",
    "print(f\"10/3 es = {resultado:1.2f} \")"
   ]
  }
 ],
 "metadata": {
  "kernelspec": {
   "display_name": "Python 3 (ipykernel)",
   "language": "python",
   "name": "python3"
  },
  "language_info": {
   "codemirror_mode": {
    "name": "ipython",
    "version": 3
   },
   "file_extension": ".py",
   "mimetype": "text/x-python",
   "name": "python",
   "nbconvert_exporter": "python",
   "pygments_lexer": "ipython3",
   "version": "3.12.2"
  }
 },
 "nbformat": 4,
 "nbformat_minor": 5
}
