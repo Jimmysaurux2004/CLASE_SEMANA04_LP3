{
 "cells": [
  {
   "cell_type": "markdown",
   "id": "fff3f838-e77b-437a-8c1f-a2701d01a029",
   "metadata": {},
   "source": [
    "# SEMANA 04\n",
    "Estudiante: Jimmy Alexander Huerta Vasquez"
   ]
  },
  {
   "cell_type": "markdown",
   "id": "7b43614e-325f-4248-b6e0-90da9d6dcddc",
   "metadata": {},
   "source": [
    "Agenda\n",
    "1. Números\n",
    "2. Variables\n",
    "3. Manejo de cadenas\n",
    "4. Ingreso de datos por el teclado\n",
    "5. Operadores"
   ]
  },
  {
   "cell_type": "markdown",
   "id": "f89c878b-8181-4946-ad35-b691233ab566",
   "metadata": {},
   "source": [
    "1. Números"
   ]
  },
  {
   "cell_type": "code",
   "execution_count": 7,
   "id": "3f0f02e4-6320-458c-a0c0-73b26e6a2fff",
   "metadata": {},
   "outputs": [
    {
     "data": {
      "text/plain": [
       "15"
      ]
     },
     "execution_count": 7,
     "metadata": {},
     "output_type": "execute_result"
    }
   ],
   "source": [
    "#Suma\n",
    "7 + 8"
   ]
  },
  {
   "cell_type": "code",
   "execution_count": 9,
   "id": "487c34d9-1424-4e09-bf90-3e182ca7273f",
   "metadata": {},
   "outputs": [
    {
     "data": {
      "text/plain": [
       "10"
      ]
     },
     "execution_count": 9,
     "metadata": {},
     "output_type": "execute_result"
    }
   ],
   "source": [
    "#Resta\n",
    "88-78"
   ]
  },
  {
   "cell_type": "code",
   "execution_count": 10,
   "id": "86e2162a-3348-49ca-a37e-99901b2e532e",
   "metadata": {},
   "outputs": [
    {
     "data": {
      "text/plain": [
       "72"
      ]
     },
     "execution_count": 10,
     "metadata": {},
     "output_type": "execute_result"
    }
   ],
   "source": [
    "#Multiplicación\n",
    "8*9"
   ]
  },
  {
   "cell_type": "code",
   "execution_count": 1,
   "id": "f120558e-b7ad-40c4-8623-2a52aed5a850",
   "metadata": {},
   "outputs": [
    {
     "data": {
      "text/plain": [
       "9.0"
      ]
     },
     "execution_count": 1,
     "metadata": {},
     "output_type": "execute_result"
    }
   ],
   "source": [
    "#División\n",
    "81/9"
   ]
  },
  {
   "cell_type": "code",
   "execution_count": 12,
   "id": "a0419e2d",
   "metadata": {},
   "outputs": [
    {
     "data": {
      "text/plain": [
       "8"
      ]
     },
     "execution_count": 12,
     "metadata": {},
     "output_type": "execute_result"
    }
   ],
   "source": [
    "#Orden de importancia\n",
    "(1+3)*2"
   ]
  },
  {
   "cell_type": "code",
   "execution_count": 13,
   "id": "063498fb",
   "metadata": {},
   "outputs": [
    {
     "data": {
      "text/plain": [
       "16"
      ]
     },
     "execution_count": 13,
     "metadata": {},
     "output_type": "execute_result"
    }
   ],
   "source": [
    "#Potenciación v.1\n",
    "(1+3)**2"
   ]
  },
  {
   "cell_type": "code",
   "execution_count": 15,
   "id": "00c7f818",
   "metadata": {},
   "outputs": [
    {
     "name": "stdout",
     "output_type": "stream",
     "text": [
      "16\n"
     ]
    }
   ],
   "source": [
    "#Potenciación v.2\n",
    "resultado=pow((1+3),2)\n",
    "print(resultado)"
   ]
  }
 ],
 "metadata": {
  "kernelspec": {
   "display_name": "Python 3 (ipykernel)",
   "language": "python",
   "name": "python3"
  },
  "language_info": {
   "codemirror_mode": {
    "name": "ipython",
    "version": 3
   },
   "file_extension": ".py",
   "mimetype": "text/x-python",
   "name": "python",
   "nbconvert_exporter": "python",
   "pygments_lexer": "ipython3",
   "version": "3.12.2"
  }
 },
 "nbformat": 4,
 "nbformat_minor": 5
}
