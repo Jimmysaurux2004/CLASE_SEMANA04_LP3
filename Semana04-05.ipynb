{
 "cells": [
  {
   "cell_type": "markdown",
   "id": "6ff7bbe7",
   "metadata": {
    "id": "6ff7bbe7"
   },
   "source": [
    "# Semana 04\n",
    "Jimmy Alexander Huerta Vásquez"
   ]
  },
  {
   "cell_type": "markdown",
   "id": "4f320ad9",
   "metadata": {
    "id": "4f320ad9"
   },
   "source": [
    "Agenda\n",
    "\n",
    "1. Números\n",
    "2. Variables\n",
    "3. Manejo de cadenas\n",
    "4. Ingreso por el teclado\n",
    "5. Operadores"
   ]
  },
  {
   "cell_type": "markdown",
   "id": "4758a254",
   "metadata": {
    "id": "4758a254"
   },
   "source": [
    "5. Operadores"
   ]
  },
  {
   "cell_type": "code",
   "execution_count": 4,
   "id": "713567b8",
   "metadata": {
    "id": "713567b8"
   },
   "outputs": [],
   "source": [
    "#5.1 Operadores aritméticos\n",
    "#Se tiene: +, -, *, /, **, %, //"
   ]
  },
  {
   "cell_type": "code",
   "execution_count": 58,
   "id": "c48bb740",
   "metadata": {
    "id": "c48bb740",
    "outputId": "b410bdb4-5028-4eed-9a4e-c86015961ab6"
   },
   "outputs": [
    {
     "name": "stdout",
     "output_type": "stream",
     "text": [
      "La suma entre 10 y 13 es  23\n",
      "La resta entre 10 y 13 es  -3\n",
      "La multiplicación entre 10 y 13 es  130\n",
      "La división entre 10 y 13 es  0.7692307692307693\n",
      "El cociente entero de la división entre 10 y 13 es  0\n",
      "El residuo (o modulo) de la división entre 10 y 13, si solo tenemos de cociente a un entero, es  10\n",
      "La potencia de 10 elevado a la 13 es  10000000000000\n"
     ]
    }
   ],
   "source": [
    "numero1 = 10\n",
    "numero2 = 13\n",
    "suma = numero1 + numero2\n",
    "resta = numero1 - numero2\n",
    "multiplicacion = numero1 * numero2\n",
    "division = numero1 / numero2 #división considerando la parte decimal\n",
    "cociente = numero1 // numero2 #división considerando unicamente la parte entera y no la decimal\n",
    "modulo = numero1 % numero2\n",
    "potencia = numero1 ** numero2\n",
    "print(f\"La suma entre {numero1} y {numero2} es \",suma)\n",
    "print(f\"La resta entre {numero1} y {numero2} es \",resta)\n",
    "print(f\"La multiplicación entre {numero1} y {numero2} es \",multiplicacion)\n",
    "print(f\"La división entre {numero1} y {numero2} es \",division)\n",
    "print(f\"El cociente entero de la división entre {numero1} y {numero2} es \",cociente)\n",
    "print(f\"El residuo (o modulo) de la división entre {numero1} y {numero2}, si solo tenemos de cociente a un entero, es \",modulo)\n",
    "print(f\"La potencia de {numero1} elevado a la {numero2} es \",potencia)"
   ]
  },
  {
   "cell_type": "code",
   "execution_count": 9,
   "id": "4271c26b-bd3f-41d8-8493-787cd1889756",
   "metadata": {},
   "outputs": [],
   "source": [
    "#5.2 Operadores de asignación\n",
    "#Se tiene: =, +=, -=, *=, /=, **="
   ]
  },
  {
   "cell_type": "code",
   "execution_count": 10,
   "id": "0a7c5efd",
   "metadata": {
    "id": "0a7c5efd"
   },
   "outputs": [
    {
     "name": "stdout",
     "output_type": "stream",
     "text": [
      "10\n"
     ]
    }
   ],
   "source": [
    "numero = 8\n",
    "numero = numero + 2\n",
    "print(numero)"
   ]
  },
  {
   "cell_type": "code",
   "execution_count": 11,
   "id": "ca332f4d-1a34-4438-8828-085f3ab6ffb5",
   "metadata": {},
   "outputs": [
    {
     "name": "stdout",
     "output_type": "stream",
     "text": [
      "10\n"
     ]
    }
   ],
   "source": [
    "#La operación anterior también se puede expresar de la siguiente manera:\n",
    "numero = 8\n",
    "numero += 2\n",
    "print(numero)"
   ]
  },
  {
   "cell_type": "code",
   "execution_count": 12,
   "id": "085f7bb7-78dc-4743-b7ca-7b7a03f5ce6a",
   "metadata": {},
   "outputs": [
    {
     "name": "stdout",
     "output_type": "stream",
     "text": [
      "125\n"
     ]
    }
   ],
   "source": [
    "#Lo mismo se puede hacer con todos los casos, incluso la potencia\n",
    "#Veamos otro ejemplo:\n",
    "numero = 5\n",
    "numero = numero ** 3\n",
    "print(numero)"
   ]
  },
  {
   "cell_type": "code",
   "execution_count": 13,
   "id": "d63a64b5-ee58-477b-9eb6-8c11de301271",
   "metadata": {},
   "outputs": [
    {
     "name": "stdout",
     "output_type": "stream",
     "text": [
      "125\n"
     ]
    }
   ],
   "source": [
    "#La operación anterior también se puede expresar de la siguiente manera:\n",
    "numero = 5\n",
    "numero **= 3\n",
    "print(numero)"
   ]
  },
  {
   "cell_type": "code",
   "execution_count": 14,
   "id": "c74830d4-8aaf-4fd0-a279-68c6eb4a67cc",
   "metadata": {},
   "outputs": [],
   "source": [
    "#5.3 Operadores de comparación\n",
    "#Se tiene: ==, !=, <, >, <=, >=,"
   ]
  },
  {
   "cell_type": "code",
   "execution_count": 15,
   "id": "bf6c1351-df57-49ef-92ab-4e53c4a262ad",
   "metadata": {},
   "outputs": [
    {
     "data": {
      "text/plain": [
       "False"
      ]
     },
     "execution_count": 15,
     "metadata": {},
     "output_type": "execute_result"
    }
   ],
   "source": [
    "#Ejemplo de igualdad ==\n",
    "numero1 = 20\n",
    "numero2 = 15\n",
    "numero1 == numero2"
   ]
  },
  {
   "cell_type": "code",
   "execution_count": 18,
   "id": "0754566c-b97c-4200-9729-d0777059b71c",
   "metadata": {},
   "outputs": [
    {
     "data": {
      "text/plain": [
       "True"
      ]
     },
     "execution_count": 18,
     "metadata": {},
     "output_type": "execute_result"
    }
   ],
   "source": [
    "#Con las cadenas funciona igual ==\n",
    "nombre1 = \"Pedro\"\n",
    "nombre2 = \"Pedro\"\n",
    "nombre1 == nombre2"
   ]
  },
  {
   "cell_type": "code",
   "execution_count": 19,
   "id": "6e146327-a715-45b2-89ac-676eed298f61",
   "metadata": {},
   "outputs": [],
   "source": [
    "#5.4 Operadores lógicos\n",
    "#Se tiene: and, or, not\n",
    "numero1 = 5\n",
    "numero2 = 6\n",
    "numero3 = 7\n",
    "numero4 = 8"
   ]
  },
  {
   "cell_type": "code",
   "execution_count": 20,
   "id": "c3cb2b7a-af78-4ed5-b866-e03b0a161a73",
   "metadata": {},
   "outputs": [
    {
     "data": {
      "text/plain": [
       "True"
      ]
     },
     "execution_count": 20,
     "metadata": {},
     "output_type": "execute_result"
    }
   ],
   "source": [
    "numero1 < numero2"
   ]
  },
  {
   "cell_type": "code",
   "execution_count": 27,
   "id": "385856c4-2634-4128-8e69-9dcd1784a95d",
   "metadata": {},
   "outputs": [
    {
     "data": {
      "text/plain": [
       "False"
      ]
     },
     "execution_count": 27,
     "metadata": {},
     "output_type": "execute_result"
    }
   ],
   "source": [
    "#Usando not (¬, ~)\n",
    "#El not invierte el resultado\n",
    "not(numero1<numero2)"
   ]
  },
  {
   "cell_type": "code",
   "execution_count": 28,
   "id": "adc8eb5c-4020-4c94-90d2-8b9bd74b9aee",
   "metadata": {},
   "outputs": [
    {
     "data": {
      "text/plain": [
       "True"
      ]
     },
     "execution_count": 28,
     "metadata": {},
     "output_type": "execute_result"
    }
   ],
   "source": [
    "#Usando and (∧)\n",
    "numero1<numero2 and numero3<numero4"
   ]
  },
  {
   "cell_type": "code",
   "execution_count": 29,
   "id": "4295c882-b144-44b8-b6fc-3be042e15c66",
   "metadata": {},
   "outputs": [
    {
     "data": {
      "text/plain": [
       "True"
      ]
     },
     "execution_count": 29,
     "metadata": {},
     "output_type": "execute_result"
    }
   ],
   "source": [
    "#Usando or (∨)\n",
    "#Tambien puedes utilizar parentesis para ordenar tu operación\n",
    "(numero1<numero2 and numero3<numero4) or (numero3>numero4)"
   ]
  },
  {
   "cell_type": "code",
   "execution_count": 30,
   "id": "e95cee3f-7d97-40d6-a789-a9eddcb2ee4a",
   "metadata": {},
   "outputs": [],
   "source": [
    "#5.5 Operadores de Pertenencia\n",
    "#Se tiene: in, not in"
   ]
  },
  {
   "cell_type": "code",
   "execution_count": 31,
   "id": "d77e3b57-0a29-411b-aafc-cff84f2f6765",
   "metadata": {},
   "outputs": [],
   "source": [
    "#Miremos un ejemplo:\n",
    "aula = [\"Manuel\", \"Rodrigo\", \"Jimmy\"]\n",
    "alumno1 = \"Hans\"\n",
    "alumno2 = \"Andres\""
   ]
  },
  {
   "cell_type": "code",
   "execution_count": 32,
   "id": "1c3329e3-dbba-4ddb-9377-7ef75d820c2f",
   "metadata": {},
   "outputs": [
    {
     "data": {
      "text/plain": [
       "False"
      ]
     },
     "execution_count": 32,
     "metadata": {},
     "output_type": "execute_result"
    }
   ],
   "source": [
    "#¿Hans está en aula?\n",
    "alumno1 in aula"
   ]
  },
  {
   "cell_type": "code",
   "execution_count": 33,
   "id": "1764ddb4-043f-4803-8101-7535e15e6438",
   "metadata": {},
   "outputs": [
    {
     "data": {
      "text/plain": [
       "False"
      ]
     },
     "execution_count": 33,
     "metadata": {},
     "output_type": "execute_result"
    }
   ],
   "source": [
    "#¿Andres está en aula?\n",
    "alumno2 in aula"
   ]
  },
  {
   "cell_type": "code",
   "execution_count": 34,
   "id": "dd190d05-f1a1-429a-b9c1-c21bd1d9c731",
   "metadata": {},
   "outputs": [
    {
     "data": {
      "text/plain": [
       "True"
      ]
     },
     "execution_count": 34,
     "metadata": {},
     "output_type": "execute_result"
    }
   ],
   "source": [
    "#¿Manuel no está en aula?\n",
    "alumno2 not in aula"
   ]
  },
  {
   "cell_type": "code",
   "execution_count": 42,
   "id": "e05c900c-f973-43a2-ba34-cde9f1b38c45",
   "metadata": {},
   "outputs": [],
   "source": [
    "#5.6 Operadores de identidad\n",
    "#Se tiene: is, is not"
   ]
  },
  {
   "cell_type": "code",
   "execution_count": 43,
   "id": "4d3fb942-4e41-4f40-835f-88db72b7a614",
   "metadata": {},
   "outputs": [],
   "source": [
    "aula1 = [\"Arian\", \"Jorge\", \"Carlos\"]\n",
    "aula2 = [\"Arian\", \"Jorge\", \"Carlos\"]\n",
    "#A continuación vamos a indicar que aula3 va a\n",
    "#compartir el mismo objeto que aula1\n",
    "aula3 = aula1"
   ]
  },
  {
   "cell_type": "code",
   "execution_count": 49,
   "id": "07045b29-8918-44fc-9c15-a97cb1dab7a0",
   "metadata": {},
   "outputs": [
    {
     "data": {
      "text/plain": [
       "True"
      ]
     },
     "execution_count": 49,
     "metadata": {},
     "output_type": "execute_result"
    }
   ],
   "source": [
    "#Usando is\n",
    "#-¿aula3 comparte el mismo objeto que aula1 ?\n",
    "aula3 is aula1"
   ]
  },
  {
   "cell_type": "code",
   "execution_count": 50,
   "id": "3acd903b-7623-4b7b-8d6e-1edc97139ceb",
   "metadata": {},
   "outputs": [
    {
     "data": {
      "text/plain": [
       "False"
      ]
     },
     "execution_count": 50,
     "metadata": {},
     "output_type": "execute_result"
    }
   ],
   "source": [
    "#-¿aula3 comparte el mismo objeto que aula2 ?\n",
    "aula3 is aula2"
   ]
  },
  {
   "cell_type": "code",
   "execution_count": 51,
   "id": "7911a363-90a7-4efb-bd66-b8cd5fa87a47",
   "metadata": {},
   "outputs": [
    {
     "data": {
      "text/plain": [
       "False"
      ]
     },
     "execution_count": 51,
     "metadata": {},
     "output_type": "execute_result"
    }
   ],
   "source": [
    "#-¿aula2 comparte el mismo objeto que aula1 ?\n",
    "aula2 is aula1"
   ]
  },
  {
   "cell_type": "code",
   "execution_count": 52,
   "id": "ffae292f-6865-4e26-8e47-c41405ea67f8",
   "metadata": {},
   "outputs": [],
   "source": [
    "#Para añadir elemento al final de la lista .append()\n",
    "aula1.append(\"Diego\")"
   ]
  },
  {
   "cell_type": "code",
   "execution_count": 53,
   "id": "68a3bb9a-a7eb-4291-98e8-40a33e06ec7f",
   "metadata": {},
   "outputs": [
    {
     "name": "stdout",
     "output_type": "stream",
     "text": [
      "['Arian', 'Jorge', 'Carlos', 'Diego']\n"
     ]
    }
   ],
   "source": [
    "#Al imprimir los elementos de la lista aula1 se observa\n",
    "print(aula1)"
   ]
  },
  {
   "cell_type": "code",
   "execution_count": 54,
   "id": "038ce678-ca65-4cb9-8bed-d3fd33a19261",
   "metadata": {},
   "outputs": [
    {
     "name": "stdout",
     "output_type": "stream",
     "text": [
      "['Arian', 'Jorge', 'Carlos', 'Diego']\n"
     ]
    }
   ],
   "source": [
    "#Al imprimir los elementos de la lista aula3 se observa\n",
    "print(aula3)"
   ]
  },
  {
   "cell_type": "code",
   "execution_count": 55,
   "id": "4b0d9b60-e330-43e4-a4ea-bc8c884606b6",
   "metadata": {},
   "outputs": [
    {
     "name": "stdout",
     "output_type": "stream",
     "text": [
      "['Arian', 'Jorge', 'Carlos']\n"
     ]
    }
   ],
   "source": [
    "#Al imprimir los elementos de la lista aula2 se observa\n",
    "print(aula2)"
   ]
  },
  {
   "cell_type": "code",
   "execution_count": null,
   "id": "b42d7aa6-977b-43dc-99b4-e80b83f98dec",
   "metadata": {},
   "outputs": [],
   "source": []
  }
 ],
 "metadata": {
  "colab": {
   "provenance": []
  },
  "kernelspec": {
   "display_name": "Python 3 (ipykernel)",
   "language": "python",
   "name": "python3"
  },
  "language_info": {
   "codemirror_mode": {
    "name": "ipython",
    "version": 3
   },
   "file_extension": ".py",
   "mimetype": "text/x-python",
   "name": "python",
   "nbconvert_exporter": "python",
   "pygments_lexer": "ipython3",
   "version": "3.11.7"
  }
 },
 "nbformat": 4,
 "nbformat_minor": 5
}
