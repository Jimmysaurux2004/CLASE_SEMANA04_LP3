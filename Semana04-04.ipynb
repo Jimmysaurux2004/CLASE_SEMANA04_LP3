{
 "cells": [
  {
   "cell_type": "markdown",
   "id": "18f69560",
   "metadata": {},
   "source": [
    "# SEMANA 04\n",
    "Estudiante: Jimmy Alexander Huerta Vasquez"
   ]
  },
  {
   "cell_type": "markdown",
   "id": "549d3ecd",
   "metadata": {},
   "source": [
    "Agenda\n",
    "\n",
    "1. Números\n",
    "2. Variables\n",
    "3. Manejo de cadenas\n",
    "4. Ingreso de datos por el teclado\n",
    "5. Operadores"
   ]
  },
  {
   "cell_type": "markdown",
   "id": "704cb847",
   "metadata": {},
   "source": [
    "4. Ingreso de datos por el tecado"
   ]
  },
  {
   "cell_type": "code",
   "execution_count": 4,
   "id": "6730e393",
   "metadata": {},
   "outputs": [
    {
     "name": "stdout",
     "output_type": "stream",
     "text": [
      "¿Cuál es tu nombre?\n"
     ]
    },
    {
     "name": "stdout",
     "output_type": "stream",
     "text": [
      " Jimmy Alexander Huerta Vasquez\n"
     ]
    },
    {
     "name": "stdout",
     "output_type": "stream",
     "text": [
      "\n",
      "Hola, Jimmy Alexander Huerta Vasquez\n"
     ]
    }
   ],
   "source": [
    "#Funcion input()\n",
    "print(\"¿Cuál es tu nombre?\")\n",
    "nombre = input()\n",
    "print(\"\\nHola, \" + nombre)"
   ]
  },
  {
   "cell_type": "code",
   "execution_count": 7,
   "id": "15351bc7",
   "metadata": {},
   "outputs": [
    {
     "name": "stdout",
     "output_type": "stream",
     "text": [
      "Número 1: \n"
     ]
    },
    {
     "name": "stdout",
     "output_type": "stream",
     "text": [
      " 4\n"
     ]
    },
    {
     "name": "stdout",
     "output_type": "stream",
     "text": [
      "Número 2: \n"
     ]
    },
    {
     "name": "stdout",
     "output_type": "stream",
     "text": [
      " 16\n"
     ]
    },
    {
     "name": "stdout",
     "output_type": "stream",
     "text": [
      "El resultado es 20\n"
     ]
    }
   ],
   "source": [
    "#Cuando ingreso un valor por teclado lo hace como cadena\n",
    "print(\"Número 1: \")\n",
    "numero1 = input()\n",
    "print(\"Número 2: \")\n",
    "numero2 = input()\n",
    "numero3 = int(numero1)+int(numero2)\n",
    "print(f\"El resultado es {numero3}\")"
   ]
  },
  {
   "cell_type": "code",
   "execution_count": null,
   "id": "7a9de035",
   "metadata": {},
   "outputs": [],
   "source": []
  }
 ],
 "metadata": {
  "kernelspec": {
   "display_name": "Python 3 (ipykernel)",
   "language": "python",
   "name": "python3"
  },
  "language_info": {
   "codemirror_mode": {
    "name": "ipython",
    "version": 3
   },
   "file_extension": ".py",
   "mimetype": "text/x-python",
   "name": "python",
   "nbconvert_exporter": "python",
   "pygments_lexer": "ipython3",
   "version": "3.12.2"
  }
 },
 "nbformat": 4,
 "nbformat_minor": 5
}
